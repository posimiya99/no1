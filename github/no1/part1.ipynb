{
 "cells": [
  {
   "cell_type": "code",
   "execution_count": 1,
   "metadata": {},
   "outputs": [
    {
     "name": "stderr",
     "output_type": "stream",
     "text": [
      "Using TensorFlow backend.\n"
     ]
    }
   ],
   "source": [
    "from keras.models import Sequential\n",
    "from keras.layers import Activation, Dense, Dropout\n",
    "from keras.utils.np_utils import to_categorical\n",
    "from keras.optimizers import Adagrad\n",
    "from keras.optimizers import Adam\n",
    "import numpy as np\n",
    "from PIL import Image\n",
    "import os\n",
    "from keras.layers.convolutional import Conv2D, MaxPooling2D\n",
    "from keras.layers.core import Activation, Flatten, Dense\n",
    "\n",
    "# 学習用のデータを作る.\n",
    "image_list = []\n",
    "label_list = []\n",
    "\n",
    "# ./data/train 以下のorange,appleディレクトリ以下の画像を読み込む。\n",
    "for dir in os.listdir(\"data/train\"):\n",
    "    if dir == \".DS_Store\":\n",
    "        continue\n",
    "\n",
    "    dir1 = \"data/train/\" + dir \n",
    "    label = 0\n",
    "\n",
    "    if dir == \"A\":    # doraはラベル0\n",
    "        label = 0\n",
    "    elif dir == \"B\": # pikaはラベル1\n",
    "        label = 1\n",
    "\n",
    "    elif dir == \"C\": # shinはラベル2\n",
    "        label = 2\n",
    "\n",
    "\n",
    "    elif dir == \"D\": # pikaはラベル1\n",
    "        label = 3\n",
    "\n",
    "    elif dir == \"E\": # shinはラベル2\n",
    "        label = 4\n",
    "        \n",
    "    elif dir == \"F\": # shinはラベル2\n",
    "        label = 5\n",
    "\n",
    "\n",
    "    elif dir == \"G\": # pikaはラベル1\n",
    "        label = 6\n",
    "\n",
    "    elif dir == \"H\": # shinはラベル2\n",
    "        label = 7\n",
    "        \n",
    "    elif dir == \"I\": # pikaはラベル1\n",
    "        label = 8\n",
    "\n",
    "    elif dir == \"J\": # shinはラベル2\n",
    "        label = 9\n",
    "\n",
    "\n",
    "    elif dir == \"K\": # pikaはラベル1\n",
    "        label = 10\n",
    "\n",
    "\n",
    "    elif dir == \"L\": # shinはラベル2\n",
    "        label = 11\n",
    "        \n",
    "    elif dir == \"M\": # shinはラベル2\n",
    "        label = 12\n",
    "\n",
    "\n",
    "    elif dir == \"N\": # pikaはラベル1\n",
    "        label = 13\n",
    "\n",
    "    elif dir == \"O\": # shinはラベル2\n",
    "        label = 14        \n",
    "    \n",
    "    elif dir == \"P\": # pikaはラベル1\n",
    "        label = 15\n",
    "\n",
    "    elif dir == \"Q\": # shinはラベル2\n",
    "        label = 16\n",
    "\n",
    "\n",
    "    elif dir == \"R\": # pikaはラベル1\n",
    "        label = 17\n",
    "\n",
    "    elif dir == \"S\": # shinはラベル2\n",
    "        label = 18\n",
    "        \n",
    "    elif dir == \"T\": # shinはラベル2\n",
    "        label = 19\n",
    "\n",
    "\n",
    "    elif dir == \"U\": # pikaはラベル1\n",
    "        label = 20\n",
    "\n",
    "    elif dir == \"V\": # shinはラベル2\n",
    "        label = 21       \n",
    "        \n",
    "    elif dir == \"W\": # shinはラベル2\n",
    "        label = 22\n",
    "        \n",
    "    elif dir == \"X\": # shinはラベル2\n",
    "        label = 23\n",
    "\n",
    "\n",
    "    elif dir == \"Y\": # pikaはラベル1\n",
    "        label = 24\n",
    "\n",
    "    elif dir == \"Z\": # shinはラベル2\n",
    "        label = 25       \n",
    "        \n",
    "                \n",
    "        \n",
    "                \n",
    "        \n",
    "        \n",
    "    for file in os.listdir(dir1):\n",
    "        if file != \".DS_Store\":\n",
    "            # 配列label_listに正解ラベルを追加(どら:0 ぴか:1しん2)\n",
    "            label_list.append(label)\n",
    "            filepath = dir1 + \"/\" + file\n",
    "            # 画像を28x28pixelに変換し、1要素が[R,G,B]3要素を含む配列の28x28の２次元配列として読み込む。\n",
    "            # [R,G,B]はそれぞれが0-255の配列。\n",
    "            image = np.array(Image.open(filepath).resize((28, 28)))\n",
    "            image.shape\n",
    "        \n",
    "        \n",
    "            # 出来上がった配列をimage_listに追加。\n",
    "            image_list.append(image / 255.)\n",
    "\n",
    "# kerasに渡すためにnumpy配列に変換。\n",
    "image_list = np.array(image_list)\n",
    "\n",
    "# ラベルの配列を1と0からなるラベル配列に変更\n",
    "# 0 -> [1,0], 1 -> [0,1] という感じ。\n",
    "Y = to_categorical(label_list)"
   ]
  },
  {
   "cell_type": "code",
   "execution_count": 2,
   "metadata": {},
   "outputs": [],
   "source": [
    "from keras.models import model_from_json\n",
    "model = model_from_json(open('lenet_AE.json').read())"
   ]
  },
  {
   "cell_type": "code",
   "execution_count": 3,
   "metadata": {},
   "outputs": [],
   "source": [
    "# オプティマイザにAdamを使用\n",
    "opt = Adam(lr=0.001)\n",
    "# モデルをコンパイル\n",
    "model.compile(loss=\"categorical_crossentropy\", optimizer=opt, metrics=[\"accuracy\"])\n",
    "\n",
    "model.load_weights('lenet_AE_weights.h5')"
   ]
  },
  {
   "cell_type": "code",
   "execution_count": 4,
   "metadata": {},
   "outputs": [],
   "source": [
    "class_names = np.array([\"A\",\"B\",\"C\",\"D\",\"E\",\"F\",\"G\",\"H\",\"I\",\"J\",\"K\",\"L\",\"M\",\"N\",\"O\",\"P\",\"Q\",\"R\",\"S\",\"T\",\"U\",\"V\",\"W\",\"X\",\"Y\",\"Z\",])"
   ]
  },
  {
   "cell_type": "code",
   "execution_count": 58,
   "metadata": {},
   "outputs": [
    {
     "name": "stdout",
     "output_type": "stream",
     "text": [
      "J: 100.00%\n",
      "Z: 0.00%\n",
      "Y: 0.00%\n",
      "\n"
     ]
    },
    {
     "data": {
      "image/png": "[encoded data removed]",
      "text/plain": [
       "<Figure size 432x288 with 1 Axes>"
      ]
     },
     "metadata": {
      "needs_background": "light"
     },
     "output_type": "display_data"
    }
   ],
   "source": [
    "import cv2\n",
    "import matplotlib.pyplot as plt\n",
    "import numpy as np\n",
    "import tensorflow as tf\n",
    "\n",
    "def predict_single_img(img):\n",
    "    x = np.expand_dims(img, axis=0)  # バッチの次元を追加する。\n",
    "\n",
    "    # 推論する。\n",
    "    scores = model.predict(x)[0]\n",
    "    top3_classes = scores.argsort()[-3:][::-1]\n",
    "\n",
    "    # 推論結果を表示する。\n",
    "    for name, score in zip(class_names[top3_classes], scores[top3_classes]):\n",
    "        print('{}: {:.2%}'.format(name, score))\n",
    "    print()\n",
    "\n",
    "img = cv2.imread('data/test/J/J0.png')  # 画像を読み込む。\n",
    "img = cv2.cvtColor(img, cv2.COLOR_BGR2RGB)  # BGR -> RGB\n",
    "img = cv2.resize(img, (28, 28), interpolation=cv2.INTER_CUBIC) # リサイズする。\n",
    "\n",
    "# 推論する。\n",
    "predict_single_img(img)\n",
    "\n",
    "# 画像を描画する。\n",
    "plt.axis('off')\n",
    "plt.imshow(img)\n",
    "plt.show()"
   ]
  },
  {
   "cell_type": "code",
   "execution_count": 59,
   "metadata": {},
   "outputs": [],
   "source": [
    "sess = tf.keras.backend.get_session()\n",
    "\n",
    "# Adversarial Examples 用のモデルを作成する。\n",
    "target_class_input = tf.placeholder(dtype=tf.int32)\n",
    "logits = sess.graph.get_tensor_by_name('dense_2/BiasAdd:0')  # Softmax の直前\n",
    "\n",
    "loss = tf.nn.sparse_softmax_cross_entropy_with_logits(\n",
    "    logits=logits, labels=[target_class_input])\n",
    "\n",
    "gradient = tf.gradients(loss, model.input)"
   ]
  },
  {
   "cell_type": "code",
   "execution_count": 60,
   "metadata": {},
   "outputs": [],
   "source": [
    "def find_adversary_noise(img, target_class,\n",
    "                         noise_limit=50., required_score=0.99, max_iterations=100):\n",
    "    noise = 0  # ノイズの初期値は0にする。\n",
    "\n",
    "    # 画像の予測ラベル\n",
    "    x = np.expand_dims(img, axis=0)\n",
    "    src_class = model.predict(x).argmax()\n",
    "\n",
    "    for i in range(max_iterations):\n",
    "        # 画像にノイズを加える。\n",
    "        noisy_img = img + noise\n",
    "\n",
    "        # 画素値を [0, 255] に収まるようにクリップする。\n",
    "        noisy_img = np.clip(noisy_img, a_min=0, a_max=255)\n",
    "\n",
    "        # 予測値及び勾配を計算する。\n",
    "        x = np.expand_dims(noisy_img, axis=0)\n",
    "        pred, grad = sess.run([model.output, gradient],\n",
    "                               feed_dict={model.input: x, target_class_input: target_class})\n",
    "        pred = np.squeeze(pred)  # (1, NumClasses) -> (NumClasses,)\n",
    "        grad = np.squeeze(grad)  # (1, 1, Height, Width, 3) -> (Height, Width, 3)\n",
    "\n",
    "        # ステップ数を計算する。\n",
    "        grad_absmax = np.abs(grad).max()\n",
    "        if grad_absmax < 1e-10:\n",
    "            grad_absmax = 1e-10\n",
    "        step_size = 7 / grad_absmax\n",
    "\n",
    "        src_score = pred[src_class]  # 元の予測ラベルの確率\n",
    "        target_score = pred[target_class]  # ターゲットのラベルの確率\n",
    "\n",
    "        # 情報を表示する。\n",
    "        print('[source] {} {:.2%} [target] {} {:.2%}'.format(\n",
    "            class_names[src_class], src_score, class_names[target_class], target_score))\n",
    "        print('[Gradient] min: {:.4f}, max: {:.4f}, stepsize: {:.4f}\\n'.format(\n",
    "            grad.min(), grad.max(), step_size))\n",
    "\n",
    "        if target_score >= required_score:\n",
    "            break\n",
    "\n",
    "        # ノイズを更新する。\n",
    "        noise -= step_size * grad\n",
    "        # ノイズを [-noise_limit, noise_limit] に収まるようにクリップする。\n",
    "        noise = np.clip(a=noise, a_min=-noise_limit, a_max=noise_limit)\n",
    "\n",
    "    return noise"
   ]
  },
  {
   "cell_type": "code",
   "execution_count": 62,
   "metadata": {},
   "outputs": [
    {
     "name": "stdout",
     "output_type": "stream",
     "text": [
      "[source] J 0.00% [target] V 0.00%\n",
      "[Gradient] min: -0.0264, max: 0.0322, stepsize: 217.2920\n",
      "\n",
      "[source] J 0.00% [target] V 0.00%\n",
      "[Gradient] min: -0.0245, max: 0.0346, stepsize: 202.3281\n",
      "\n",
      "[source] J 0.00% [target] V 0.00%\n",
      "[Gradient] min: -0.0304, max: 0.0283, stepsize: 230.2594\n",
      "\n",
      "[source] J 0.00% [target] V 0.00%\n",
      "[Gradient] min: -0.0243, max: 0.0281, stepsize: 249.0791\n",
      "\n",
      "[source] J 0.00% [target] V 0.00%\n",
      "[Gradient] min: -0.0242, max: 0.0241, stepsize: 289.4089\n",
      "\n",
      "[source] J 0.00% [target] V 0.00%\n",
      "[Gradient] min: -0.0276, max: 0.0237, stepsize: 253.3815\n",
      "\n",
      "[source] J 0.00% [target] V 99.99%\n",
      "[Gradient] min: -0.0000, max: 0.0000, stepsize: 2380121.7925\n",
      "\n",
      "noise min: -32.7816, max: 26.8221, mean: -0.3257, std: 8.1016\n",
      "J: 100.00%\n",
      "Z: 0.00%\n",
      "Y: 0.00%\n",
      "\n",
      "J: 100.00%\n",
      "Z: 0.00%\n",
      "Y: 0.00%\n",
      "\n"
     ]
    },
    {
     "data": {
      "image/png": "[encoded data removed]",
      "text/plain": [
       "<Figure size 720x360 with 3 Axes>"
      ]
     },
     "metadata": {
      "needs_background": "light"
     },
     "output_type": "display_data"
    }
   ],
   "source": [
    "target_class = 21\n",
    "sess.run(tf.global_variables_initializer())\n",
    "noise = find_adversary_noise(img, target_class)\n",
    "\n",
    "print('noise min: {:.4f}, max: {:.4f}, mean: {:.4f}, std: {:.4f}'.format(\n",
    "    noise.min(), noise.max(), noise.mean(), noise.std()))\n",
    "\n",
    "# ノイズを付加した画像を生成する。\n",
    "noisy_img = np.clip(img + noise, a_min=0, a_max=255).astype(np.uint8)\n",
    "\n",
    "predict_single_img(img)\n",
    "predict_single_img(noisy_img)\n",
    "\n",
    "def array_to_img(x):\n",
    "    '''[0, 1] に正規化\n",
    "    '''\n",
    "    return (x - x.min()) / (x.max() - x.min())\n",
    "\n",
    "cv2.imwrite(\"ado/JtoV.jpg\",noisy_img)\n",
    "# 描画する。\n",
    "fig, [ax1, ax2, ax3] = plt.subplots(1, 3, figsize=(10, 5))\n",
    "\n",
    "ax1.set_title('Original Image')\n",
    "ax1.imshow(img)\n",
    "ax1.set_axis_off()\n",
    "\n",
    "ax2.set_title('Adversarial Examples')\n",
    "ax2.imshow(noisy_img)\n",
    "ax2.set_axis_off()\n",
    "\n",
    "ax3.set_title('Noise')\n",
    "ax3.imshow(array_to_img(noise))\n",
    "ax3.set_axis_off()\n",
    "\n",
    "plt.show()"
   ]
  },
  {
   "cell_type": "code",
   "execution_count": 63,
   "metadata": {},
   "outputs": [
    {
     "name": "stdout",
     "output_type": "stream",
     "text": [
      "J: 100.00%\n",
      "Z: 0.00%\n",
      "Y: 0.00%\n",
      "\n"
     ]
    },
    {
     "data": {
      "image/png": "[encoded data removed]",
      "text/plain": [
       "<Figure size 432x288 with 1 Axes>"
      ]
     },
     "metadata": {
      "needs_background": "light"
     },
     "output_type": "display_data"
    }
   ],
   "source": [
    "img = cv2.imread('ado/JtoV.jpg')  # 画像を読み込む。\n",
    "img = cv2.resize(img, (28, 28), interpolation=cv2.INTER_CUBIC) # リサイズする。\n",
    "\n",
    "# 推論する。\n",
    "predict_single_img(img)\n",
    "\n",
    "# 画像を描画する。\n",
    "plt.axis('off')\n",
    "plt.imshow(img)\n",
    "plt.show()"
   ]
  },
  {
   "cell_type": "code",
   "execution_count": null,
   "metadata": {},
   "outputs": [],
   "source": []
  }
 ],
 "metadata": {
  "kernelspec": {
   "display_name": "Python 3",
   "language": "python",
   "name": "python3"
  },
  "language_info": {
   "codemirror_mode": {
    "name": "ipython",
    "version": 3
   },
   "file_extension": ".py",
   "mimetype": "text/x-python",
   "name": "python",
   "nbconvert_exporter": "python",
   "pygments_lexer": "ipython3",
   "version": "3.6.6"
  }
 },
 "nbformat": 4,
 "nbformat_minor": 2
}
